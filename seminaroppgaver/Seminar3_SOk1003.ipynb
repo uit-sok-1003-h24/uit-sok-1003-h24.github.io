{
 "cells": [
  {
   "cell_type": "markdown",
   "metadata": {},
   "source": [
    "# Seminar - **matplotlib** (Løsningsforslag)\n",
    "Til nå har vi sett på fundamentale prinsipper i Python, som variabler og funksjoner. Dette er viktig å kunne visualisere, for egen forståelse, men ikke minst for å kunne forklare andre hva man har gjort og funnet ut. Samfunnsøkonomer er ofte i tverrfaglige team, og det krever å kunne formidle informasjon om data på ulike måter - derfor er *matplotlib* et ypperlig bibliotek å ha kjennskap til. Disse oppgavene er tiltenkt seminar uke 38/39 i Python lab H24 - som trening på å plotte funksjoner. Dette er ikke arbeidskrav, men god trening til å visualisere funksjoner.\n",
    "\n",
    "Øv på å bruke Google, forelesningsnotater og pseudokode for å løse oppgaven."
   ]
  },
  {
   "cell_type": "markdown",
   "metadata": {},
   "source": [
    "# Datasett for seminar\n",
    "I forbindelse med denne oppgaven henter vi et datasett fra Kaggle. Les mer om datasettet [her](https://www.kaggle.com/datasets/lainguyn123/student-performance-factors).\n",
    "\n",
    "Dette datasettet gir en omfattende oversikt over ulike faktorer som påvirker studenters prestasjoner på eksamener. Det inkluderer informasjon om studievaner, oppmøte, foreldreinvolvering og andre aspekter som har innflytelse på akademisk suksess.\n",
    "\n",
    "Kolonnene i datasettet er:\n",
    "| **Attributt**                  | **Beskrivelse**                                                              |\n",
    "|---------------------------------|------------------------------------------------------------------------------|\n",
    "| Hours_Studied                  | Antall timer brukt på å studere per uke.                                      |\n",
    "| Attendance                     | Prosentandel av klasser eleven har deltatt i.                                 |\n",
    "| Parental_Involvement            | Nivå av foreldreinvolvering i elevens utdanning (Lav, Middels, Høy).          |\n",
    "| Access_to_Resources             | Tilgang til utdanningsressurser (Lav, Middels, Høy).                          |\n",
    "| Extracurricular_Activities      | Deltakelse i fritidsaktiviteter (Ja, Nei).                                    |\n",
    "| Sleep_Hours                     | Gjennomsnittlig antall timer søvn per natt.                                   |\n",
    "| Previous_Scores                 | Karakterer fra tidligere eksamener.                                           |\n",
    "| Motivation_Level                | Elevens motivasjonsnivå (Lav, Middels, Høy).                                  |\n",
    "| Internet_Access                 | Tilgang til internett (Ja, Nei).                                              |\n",
    "| Tutoring_Sessions               | Antall veiledningsøkter deltatt i per måned.                                  |\n",
    "| Family_Income                   | Inntektsnivået til familien (Lav, Middels, Høy).                              |\n",
    "| Teacher_Quality                 | Kvalitet på lærerne (Lav, Middels, Høy).                                      |\n",
    "| School_Type                     | Type skole som eleven går på (Offentlig, Privat).                             |\n",
    "| Peer_Influence                  | Innflytelse fra jevnaldrende på akademisk ytelse (Positiv, Nøytral, Negativ). |\n",
    "| Physical_Activity               | Gjennomsnittlig antall timer med fysisk aktivitet per uke.                    |\n",
    "| Learning_Disabilities           | Tilstedeværelse av lærevansker (Ja, Nei).                                     |\n",
    "| Parental_Education_Level        | Høyeste utdanningsnivå til foreldrene (Videregående, Høgskole, Master).        |\n",
    "| Distance_from_Home              | Avstand fra hjem til skole (Nær, Moderat, Lang).                              |\n",
    "| Gender                          | Kjønn på studenten (Mann, Kvinne).                                            |\n",
    "| Exam_Score                      | Endelig eksamensresultat.                                                     |\n",
    "\n",
    "\n",
    "Datasettet finner dere her: https://github.com/uit-sok-1003-h24/uit-sok-1003-h24.github.io/tree/main/seminaroppgaver "
   ]
  },
  {
   "cell_type": "markdown",
   "metadata": {},
   "source": [
    "# Oppgave 1a\n",
    "Lag et scatter-plot som viser forholdet mellom antall timer brukt på å studere (```Hours_Studied```) og eksamensresultatet (```Exam_Score```). Bruk en farge for å indikere kjønn (```Gender```) i plottet, hvor for eksempel blå representerer \"Male\" og rød representerer \"Female\".\n",
    "\n",
    "Hva kan vi si om sammenhengen mellom antall timer studert og eksamensresultater? Ser det ut til å være en forskjell mellom kjønnene?"
   ]
  },
  {
   "cell_type": "code",
   "execution_count": 2,
   "metadata": {},
   "outputs": [],
   "source": [
    "import pandas as pd\n",
    "\n",
    "df = pd.read_csv('/Users/maaas6121/Library/CloudStorage/OneDrive-UiTOffice365/Skrivebord/SOK-1003/Seminaroppgaver/StudentPerformanceFactors.csv') "
   ]
  },
  {
   "cell_type": "code",
   "execution_count": null,
   "metadata": {},
   "outputs": [],
   "source": []
  },
  {
   "cell_type": "markdown",
   "metadata": {},
   "source": [
    "# Oppgave 1b\n",
    "Lag et histogram som viser fordelingen av antall timer søvn per natt (```Sleep_Hours```). Del dataene inn i intervaller på én time.\n",
    "\n",
    "Hva er gjennomsnittlig antall timer med søvn per natt blant studentene? Virker det som om søvnmengden har en innvirkning på eksamensresultatene?"
   ]
  },
  {
   "cell_type": "code",
   "execution_count": null,
   "metadata": {},
   "outputs": [],
   "source": []
  },
  {
   "cell_type": "markdown",
   "metadata": {},
   "source": [
    "# Oppgave 1c\n",
    "Lag et linjediagram som viser hvordan fraværsprosenten (```Attendance```) varierer med eksamensresultatene (```Exam_Score```). Sorter dataene etter fraværsprosenten for en tydelig trend.\n",
    "\n",
    "Hva ser du når du plotter fravær og eksamensresultater? Virker det som om høyere fravær fører til dårligere eksamensresultater?"
   ]
  },
  {
   "cell_type": "code",
   "execution_count": null,
   "metadata": {},
   "outputs": [],
   "source": []
  },
  {
   "cell_type": "markdown",
   "metadata": {},
   "source": [
    "# Oppgave 1d\n",
    "Lag en bar-plot som viser gjennomsnittlig eksamensresultat (```Exam_Score```) for de ulike nivåene av foreldreinvolvering (```Parental_Involvement```).\n",
    "\n",
    "Hvilket nivå av foreldreinvolvering ser ut til å korrelere med høyere eksamensresultater?\n",
    "\n",
    "Hint:\n",
    "* ```mean()``` funksjonen kan brukes for å finne gjennomsnitt.\n",
    "* Kan hjelpe å lage følgende variabel:\n",
    "```python\n",
    "avg_scores_by_involvement = df.groupby('Parental_Involvement')['Exam_Score'].mean()\n",
    "```"
   ]
  },
  {
   "cell_type": "code",
   "execution_count": null,
   "metadata": {},
   "outputs": [],
   "source": []
  },
  {
   "cell_type": "markdown",
   "metadata": {},
   "source": [
    "# Oppgave 1e\n",
    "\n",
    "Velg minst to andre kolonner fra datasettet som du finner interessante og lag et plott som viser sammenhengen mellom disse variablene. Du står fritt til å velge plottetype og hvilke variabler du vil sammenligne.\n",
    "\n",
    "Beskriv dine funn og hvordan de kan påvirke studentenes prestasjoner."
   ]
  },
  {
   "cell_type": "markdown",
   "metadata": {},
   "source": [
    "LF: Her er et eksempel på hvordan du kan plotte antall timer med fysisk aktivitet og se på sammenhengen med eksamensresultatene:"
   ]
  },
  {
   "cell_type": "code",
   "execution_count": null,
   "metadata": {},
   "outputs": [],
   "source": []
  },
  {
   "cell_type": "code",
   "execution_count": null,
   "metadata": {},
   "outputs": [],
   "source": []
  }
 ],
 "metadata": {
  "kernelspec": {
   "display_name": "myenv",
   "language": "python",
   "name": "python3"
  },
  "language_info": {
   "codemirror_mode": {
    "name": "ipython",
    "version": 3
   },
   "file_extension": ".py",
   "mimetype": "text/x-python",
   "name": "python",
   "nbconvert_exporter": "python",
   "pygments_lexer": "ipython3",
   "version": "3.12.3"
  }
 },
 "nbformat": 4,
 "nbformat_minor": 2
}
