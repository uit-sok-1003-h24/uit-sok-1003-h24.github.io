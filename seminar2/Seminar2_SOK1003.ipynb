{
 "cells": [
  {
   "cell_type": "markdown",
   "metadata": {},
   "source": [
    "# **Seminar - funksjoner**\n",
    "For å bygge en god grunnmur i Python, trenger vi å kunne lage våre egne funksjoner. Heldigvis er Python et fleksibelt programmeringsspråk og gjør at vi kan lage funksjoner på mange ulike vis.\n",
    "\n",
    "Disse oppgavene er tiltenkt seminar uke 37 i Python lab H24 - som trening på funksjoner.\n",
    "\n",
    "Øv på å bruke Google, forelesningsnotater og pseudokode for å løse oppgaven."
   ]
  },
  {
   "cell_type": "markdown",
   "metadata": {},
   "source": [
    "# Oppgave 1a\n",
    "*Nåverdi* (eng: *present value*) er viktig i økonomi, og bruke til å beregne verdien i dag av en fremtidig sum penger. Formelen er\n",
    "$$PV = \\frac{FV}{(1+r)^n}$$\n",
    "\n",
    "Der: \n",
    "* $FV$ er fremtidig verdi (Future Value)\n",
    "* $r$ er rente per periode\n",
    "* $n$ er antall perioder\n",
    "\n",
    "**Oppgave**: Lag en funksjon ```present_value(fv, r, n)``` som tar inn de tre parameterne og returnerer nåverdien. Test funksjonen for noen vilkårlige verdier.\n",
    "\n",
    "## Oppgave 1b\n",
    "Return on Investment (ROI) er en måling som brukes til å evaluere effektiviteten av en investering. Formelen er:\n",
    "\n",
    "$$𝑅𝑂𝐼 = \\frac{\\text{(Gevinst fra investering)\\; - \\; \\text{(Kostnad ved investering)}}}{\\text{(Kostnad ved investering)}}$$\n",
    "\n",
    "**Oppgave**: Lag en funksjon ```roi(gain, cost)``` som beregner ROI. Test funksjonen for noen vilkårlige verdier.\n",
    "\n",
    "## Oppgave 1c\n",
    "Den gjennomsnittlige årlige avkastningen (Compound Annual Growth Rate, CAGR) brukes til å måle avkastningen på en investering over tid, med tanke på effekten av rentesrente. Formelen er:\n",
    "\n",
    "$$\\text{CAGR} = \\left(\\frac{\\text{EV}}{\\text{BV}} \\right)^{\\frac{1}{n}} - 1$$\n",
    "\n",
    "Der:\n",
    "* $EV$ er sluttverdien (Ending Value)\n",
    "* $BV$ er startverdien (Beginning Value)\n",
    "* $n$ er antall år\n",
    "\n",
    "**Oppgave**: Lag en funksjon ```cagr(ev, bv, n)``` som beregner CAGR.\n"
   ]
  },
  {
   "cell_type": "code",
   "execution_count": null,
   "metadata": {},
   "outputs": [],
   "source": []
  },
  {
   "cell_type": "code",
   "execution_count": null,
   "metadata": {},
   "outputs": [],
   "source": []
  },
  {
   "cell_type": "code",
   "execution_count": null,
   "metadata": {},
   "outputs": [],
   "source": []
  },
  {
   "cell_type": "markdown",
   "metadata": {},
   "source": [
    "# Oppgave 2a\n",
    "Lag en funksjon som lager en liste med $n$ **tilfeldige** verdier mellom $1$ og $k$. Funksjonen skal altså ha $2$ parameter ($n$ og $k$). \n",
    "Her vil du få bruk for biblioteket 'random', det henter du ved å skrive:\n",
    "```\n",
    "import random\n",
    "```\n",
    "\n",
    "Test funksjonen for $n = 15$ og $k=50$.\n",
    "\n",
    "Hint:\n",
    "* Skriv pseudo-kode før du går igang.\n",
    "* Sjekk først hva og hvordan ```random.randint(1, 10))``` fungerer.\n",
    "* Man kan bruke for-løkke og ```append``` funksjonen for å få dette til.\n",
    "* Google er din venn.\n",
    "\n",
    "## Oppgave 2b\n",
    "Lag en funksjon som som itererer gjennom en liste (som du lager med funksjonen fra oppgave 2a) - og sjekker om verdiene i lista er større eller lik enn en verdi $b$. Hvis den er større, legg tallet i en ny liste. Returner denne lista.\n",
    "\n",
    "Lag en funksjon med tre parametere ($b$, $n$ og $k$) og test funksjonen.\n",
    "\n",
    "Hint:\n",
    "* Her skal du lage en funksjon som bruker funksjonen fra 2a **inne** i funksjonen.\n",
    "* Husk å lag pseudo-kode, før du setter igang.\n",
    "* Man kan bruke for-løkke og ```append``` funksjonen for å få dette til.\n",
    "* Søk også opp hvordan ```if``` og ```else``` fungerer i Python."
   ]
  },
  {
   "cell_type": "code",
   "execution_count": 26,
   "metadata": {},
   "outputs": [
    {
     "data": {
      "text/plain": [
       "[4, 14, 17, 32, 18, 8, 42, 36, 5, 17, 2, 36, 22, 45, 44]"
      ]
     },
     "execution_count": 26,
     "metadata": {},
     "output_type": "execute_result"
    }
   ],
   "source": []
  },
  {
   "cell_type": "code",
   "execution_count": 27,
   "metadata": {},
   "outputs": [
    {
     "data": {
      "text/plain": [
       "[49, 44, 28]"
      ]
     },
     "execution_count": 27,
     "metadata": {},
     "output_type": "execute_result"
    }
   ],
   "source": []
  },
  {
   "cell_type": "markdown",
   "metadata": {},
   "source": [
    "# Det kan være kjekt å vite følgende\n",
    "\n",
    "```\n",
    "import random\n",
    "\n",
    "# Sette random seed - for å få samme \"tilfeldige\" verdi hver gang\n",
    "random.seed(42)\n",
    "\n",
    "# Generere random tall\n",
    "print(random.randint(1, 10))  # Generates a random integer between 1 and 10\n",
    "print(random.random())        # Generates a random float between 0 and 1\n",
    "```"
   ]
  },
  {
   "cell_type": "markdown",
   "metadata": {},
   "source": [
    "# Oppgave 3a\n",
    "Du er samfunnsøkonom å undersøker hvor mange pasienter en fastlege kan ta i løpet av en dag.\n",
    "Lag en funksjon med fire argumenter ```consultation_schedule(number_of_patients, consultation_time, hours_per_day, days_per_week)```\n",
    "\n",
    "Funksjonen skal printe ut tekst og utregnete variabler som hvor mange pasienter legen kan ta per dag. Hvor mange arbeidsdager det tar å fullføre alle pasientene, og hvor mange pasienter legen kan ta i uka.\n",
    "\n",
    "* ```number_of_patients```: antall pasienter totalt (velg en eksempelverdi selv).\n",
    "* ```consultation_time```: hvor lang tid en konsultasjon tar (f.eks. 0.5 timer).\n",
    "* ```hours_per_day```: en variabel som er hvor mange arbeidstimer legen har per dag (som vanligvis er 7.5).\n",
    "* ```days_per_week```: en variabel som er antall arbeidsdager i uka (som er vanligvis 5).\n"
   ]
  },
  {
   "cell_type": "code",
   "execution_count": null,
   "metadata": {},
   "outputs": [],
   "source": [
    "\n"
   ]
  },
  {
   "cell_type": "markdown",
   "metadata": {},
   "source": [
    "## Oppgave 3b\n",
    "Lag en ny versjon av funksjonen over, som tar inn ett ekstra argument ```percent_sickleave```, som er hvor mange prosent sykemelding legen har. F.eks. 40% sykemelding, eller 60% - gjør slik at funksjonen tar hensyn til det. "
   ]
  },
  {
   "cell_type": "code",
   "execution_count": null,
   "metadata": {},
   "outputs": [],
   "source": []
  }
 ],
 "metadata": {
  "kernelspec": {
   "display_name": "myenv",
   "language": "python",
   "name": "python3"
  },
  "language_info": {
   "codemirror_mode": {
    "name": "ipython",
    "version": 3
   },
   "file_extension": ".py",
   "mimetype": "text/x-python",
   "name": "python",
   "nbconvert_exporter": "python",
   "pygments_lexer": "ipython3",
   "version": "3.12.3"
  }
 },
 "nbformat": 4,
 "nbformat_minor": 2
}
